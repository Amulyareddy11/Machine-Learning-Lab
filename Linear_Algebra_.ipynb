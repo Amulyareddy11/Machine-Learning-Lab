{
  "nbformat": 4,
  "nbformat_minor": 5,
  "metadata": {
    "kernelspec": {
      "display_name": "Python 3",
      "language": "python",
      "name": "python3"
    },
    "language_info": {
      "codemirror_mode": {
        "name": "ipython",
        "version": 3
      },
      "file_extension": ".py",
      "mimetype": "text/x-python",
      "name": "python",
      "nbconvert_exporter": "python",
      "pygments_lexer": "ipython3",
      "version": "3.6.13"
    },
    "colab": {
      "name": "Linear Algebra .ipynb",
      "provenance": [],
      "include_colab_link": true
    }
  },
  "cells": [
    {
      "cell_type": "markdown",
      "metadata": {
        "id": "view-in-github",
        "colab_type": "text"
      },
      "source": [
        "<a href=\"https://colab.research.google.com/github/Amulyareddy11/Machine-Learning-Lab/blob/Machine-Learning/Linear_Algebra_.ipynb\" target=\"_parent\"><img src=\"https://colab.research.google.com/assets/colab-badge.svg\" alt=\"Open In Colab\"/></a>"
      ]
    },
    {
      "cell_type": "code",
      "metadata": {
        "id": "compressed-chrome",
        "outputId": "523afce6-ae34-4a9c-c694-d930d2b88fb8"
      },
      "source": [
        "a=7\n",
        "a"
      ],
      "id": "compressed-chrome",
      "execution_count": null,
      "outputs": [
        {
          "data": {
            "text/plain": [
              "7"
            ]
          },
          "execution_count": 3,
          "metadata": {},
          "output_type": "execute_result"
        }
      ]
    },
    {
      "cell_type": "code",
      "metadata": {
        "id": "obvious-qualification",
        "outputId": "5c394ef5-9b6b-4421-a1b5-de2593298fb7"
      },
      "source": [
        "a+2\n"
      ],
      "id": "obvious-qualification",
      "execution_count": null,
      "outputs": [
        {
          "data": {
            "text/plain": [
              "9"
            ]
          },
          "execution_count": 5,
          "metadata": {},
          "output_type": "execute_result"
        }
      ]
    },
    {
      "cell_type": "code",
      "metadata": {
        "id": "heated-beauty",
        "outputId": "a22ad0d4-576b-4fe9-e547-a61e74931a03"
      },
      "source": [
        "mike=17\n",
        "mike*a+1"
      ],
      "id": "heated-beauty",
      "execution_count": null,
      "outputs": [
        {
          "data": {
            "text/plain": [
              "120"
            ]
          },
          "execution_count": 7,
          "metadata": {},
          "output_type": "execute_result"
        }
      ]
    },
    {
      "cell_type": "code",
      "metadata": {
        "id": "scientific-configuration",
        "outputId": "3bac79c9-ff9a-4007-f221-ee0ebf1833d0"
      },
      "source": [
        "mike**a"
      ],
      "id": "scientific-configuration",
      "execution_count": null,
      "outputs": [
        {
          "data": {
            "text/plain": [
              "410338673"
            ]
          },
          "execution_count": 9,
          "metadata": {},
          "output_type": "execute_result"
        }
      ]
    },
    {
      "cell_type": "code",
      "metadata": {
        "id": "superior-front",
        "outputId": "e2cb692e-74e3-4d43-bcba-bee9d5a1237b"
      },
      "source": [
        "greeting='hello'\n",
        "greeting"
      ],
      "id": "superior-front",
      "execution_count": null,
      "outputs": [
        {
          "data": {
            "text/plain": [
              "'hello'"
            ]
          },
          "execution_count": 10,
          "metadata": {},
          "output_type": "execute_result"
        }
      ]
    },
    {
      "cell_type": "code",
      "metadata": {
        "id": "square-costs",
        "outputId": "fb5f634b-69fc-429a-d88e-f46cc84e180c"
      },
      "source": [
        "msg='hello,my name is'\n",
        "name='amulya'\n",
        "age=19\n",
        "msg+name+'!'\n",
        "'i am'+  str(age) +'years old'"
      ],
      "id": "square-costs",
      "execution_count": null,
      "outputs": [
        {
          "data": {
            "text/plain": [
              "'i am19years old'"
            ]
          },
          "execution_count": 16,
          "metadata": {},
          "output_type": "execute_result"
        }
      ]
    },
    {
      "cell_type": "code",
      "metadata": {
        "id": "sexual-diary",
        "outputId": "7bc9b5bd-44a1-44ba-9ea3-c35fe7e01474"
      },
      "source": [
        "list=[1,2,3,4]\n",
        "list"
      ],
      "id": "sexual-diary",
      "execution_count": null,
      "outputs": [
        {
          "data": {
            "text/plain": [
              "[1, 2, 3, 4]"
            ]
          },
          "execution_count": 18,
          "metadata": {},
          "output_type": "execute_result"
        }
      ]
    },
    {
      "cell_type": "code",
      "metadata": {
        "id": "insured-coupon",
        "outputId": "e42b8a95-882e-4b65-8fac-334a72eb7d65"
      },
      "source": [
        "abs(-5)"
      ],
      "id": "insured-coupon",
      "execution_count": null,
      "outputs": [
        {
          "data": {
            "text/plain": [
              "5"
            ]
          },
          "execution_count": 20,
          "metadata": {},
          "output_type": "execute_result"
        }
      ]
    },
    {
      "cell_type": "code",
      "metadata": {
        "id": "israeli-request",
        "outputId": "806287c3-3315-49b2-f847-a36d2e7b90f6"
      },
      "source": [
        "import numpy as np\n",
        "np.mean(list)"
      ],
      "id": "israeli-request",
      "execution_count": null,
      "outputs": [
        {
          "data": {
            "text/plain": [
              "2.5"
            ]
          },
          "execution_count": 22,
          "metadata": {},
          "output_type": "execute_result"
        }
      ]
    },
    {
      "cell_type": "code",
      "metadata": {
        "id": "subject-patch",
        "outputId": "69c80712-d050-4567-876a-76726356eaf1"
      },
      "source": [
        "np.sqrt(4)"
      ],
      "id": "subject-patch",
      "execution_count": null,
      "outputs": [
        {
          "data": {
            "text/plain": [
              "2.0"
            ]
          },
          "execution_count": 25,
          "metadata": {},
          "output_type": "execute_result"
        }
      ]
    },
    {
      "cell_type": "code",
      "metadata": {
        "id": "altered-regular",
        "outputId": "96d3794f-3998-417d-f0f8-5ceb15a27daa"
      },
      "source": [
        "np.linspace(1,10,7)"
      ],
      "id": "altered-regular",
      "execution_count": null,
      "outputs": [
        {
          "data": {
            "text/plain": [
              "array([ 1. ,  2.5,  4. ,  5.5,  7. ,  8.5, 10. ])"
            ]
          },
          "execution_count": 28,
          "metadata": {},
          "output_type": "execute_result"
        }
      ]
    },
    {
      "cell_type": "code",
      "metadata": {
        "id": "possible-story",
        "outputId": "de42a7a7-5be0-429c-cfb6-846493b4f96b"
      },
      "source": [
        "out=np.linspace(1,10,7)\n",
        "out"
      ],
      "id": "possible-story",
      "execution_count": null,
      "outputs": [
        {
          "data": {
            "text/plain": [
              "array([ 1. ,  2.5,  4. ,  5.5,  7. ,  8.5, 10. ])"
            ]
          },
          "execution_count": 30,
          "metadata": {},
          "output_type": "execute_result"
        }
      ]
    },
    {
      "cell_type": "code",
      "metadata": {
        "id": "concerned-cornwall",
        "outputId": "06f344c6-83f1-4722-f503-b1cd0fffda8b"
      },
      "source": [
        "out+2"
      ],
      "id": "concerned-cornwall",
      "execution_count": null,
      "outputs": [
        {
          "data": {
            "text/plain": [
              "array([ 3. ,  4.5,  6. ,  7.5,  9. , 10.5, 12. ])"
            ]
          },
          "execution_count": 32,
          "metadata": {},
          "output_type": "execute_result"
        }
      ]
    },
    {
      "cell_type": "code",
      "metadata": {
        "id": "invisible-drunk",
        "outputId": "045b30d3-7b08-49bf-89ad-9dfc93f89153"
      },
      "source": [
        "np.linspace(4,100,15)\n"
      ],
      "id": "invisible-drunk",
      "execution_count": null,
      "outputs": [
        {
          "data": {
            "text/plain": [
              "array([  4.        ,  10.85714286,  17.71428571,  24.57142857,\n",
              "        31.42857143,  38.28571429,  45.14285714,  52.        ,\n",
              "        58.85714286,  65.71428571,  72.57142857,  79.42857143,\n",
              "        86.28571429,  93.14285714, 100.        ])"
            ]
          },
          "execution_count": 47,
          "metadata": {},
          "output_type": "execute_result"
        }
      ]
    },
    {
      "cell_type": "code",
      "metadata": {
        "id": "aging-northwest",
        "outputId": "f5705182-5730-45fd-e4f6-b16cd201a4c3"
      },
      "source": [
        "import matplotlib.pyplot as plt\n",
        "import numpy as np\n",
        "plt.plot(1,3)"
      ],
      "id": "aging-northwest",
      "execution_count": null,
      "outputs": [
        {
          "data": {
            "text/plain": [
              "[<matplotlib.lines.Line2D at 0x7f30471f67b8>]"
            ]
          },
          "execution_count": 50,
          "metadata": {},
          "output_type": "execute_result"
        },
        {
          "data": {
            "image/png": "[encoded data removed]",
            "text/plain": [
              "<Figure size 432x288 with 1 Axes>"
            ]
          },
          "metadata": {
            "needs_background": "light"
          },
          "output_type": "display_data"
        }
      ]
    },
    {
      "cell_type": "code",
      "metadata": {
        "id": "thorough-sport",
        "outputId": "09f4358c-d30b-4377-c68d-271c703d4e4d"
      },
      "source": [
        "plt.plot(1,3,'ro')"
      ],
      "id": "thorough-sport",
      "execution_count": null,
      "outputs": [
        {
          "data": {
            "text/plain": [
              "[<matplotlib.lines.Line2D at 0x7f3047147438>]"
            ]
          },
          "execution_count": 52,
          "metadata": {},
          "output_type": "execute_result"
        },
        {
          "data": {
            "image/png": "[encoded data removed]",
            "text/plain": [
              "<Figure size 432x288 with 1 Axes>"
            ]
          },
          "metadata": {
            "needs_background": "light"
          },
          "output_type": "display_data"
        }
      ]
    },
    {
      "cell_type": "code",
      "metadata": {
        "id": "unlimited-aruba",
        "outputId": "de576add-62b3-4bbf-904e-2ff643227686"
      },
      "source": [
        "plt.plot(1,3,'ko')"
      ],
      "id": "unlimited-aruba",
      "execution_count": null,
      "outputs": [
        {
          "data": {
            "text/plain": [
              "[<matplotlib.lines.Line2D at 0x7f3047121f98>]"
            ]
          },
          "execution_count": 53,
          "metadata": {},
          "output_type": "execute_result"
        },
        {
          "data": {
            "image/png": "[encoded data removed]",
            "text/plain": [
              "<Figure size 432x288 with 1 Axes>"
            ]
          },
          "metadata": {
            "needs_background": "light"
          },
          "output_type": "display_data"
        }
      ]
    },
    {
      "cell_type": "code",
      "metadata": {
        "id": "desirable-procurement",
        "outputId": "f28d7002-ec1a-4811-f213-a76ee03e9a35"
      },
      "source": [
        "x=np.arange(-9,10)\n",
        "x"
      ],
      "id": "desirable-procurement",
      "execution_count": null,
      "outputs": [
        {
          "data": {
            "text/plain": [
              "array([-9, -8, -7, -6, -5, -4, -3, -2, -1,  0,  1,  2,  3,  4,  5,  6,  7,\n",
              "        8,  9])"
            ]
          },
          "execution_count": 55,
          "metadata": {},
          "output_type": "execute_result"
        }
      ]
    },
    {
      "cell_type": "code",
      "metadata": {
        "id": "adapted-video",
        "outputId": "b332adbf-7342-47fe-aa7a-9e316c4aae0d"
      },
      "source": [
        "y=x**2\n",
        "plt.plot(x,y,'r')\n",
        "plt.plot(x,y/2,'gs')\n",
        "plt.show()"
      ],
      "id": "adapted-video",
      "execution_count": null,
      "outputs": [
        {
          "data": {
            "image/png": "[encoded data removed]",
            "text/plain": [
              "<Figure size 432x288 with 1 Axes>"
            ]
          },
          "metadata": {
            "needs_background": "light"
          },
          "output_type": "display_data"
        }
      ]
    },
    {
      "cell_type": "code",
      "metadata": {
        "id": "extended-offering",
        "outputId": "584a9fa8-45ec-42d2-b4c9-6626bceb85b9"
      },
      "source": [
        "plt.plot([0,3],[-1,1])"
      ],
      "id": "extended-offering",
      "execution_count": null,
      "outputs": [
        {
          "data": {
            "text/plain": [
              "[<matplotlib.lines.Line2D at 0x7f3046fde7b8>]"
            ]
          },
          "execution_count": 60,
          "metadata": {},
          "output_type": "execute_result"
        },
        {
          "data": {
            "image/png": "[encoded data removed]",
            "text/plain": [
              "<Figure size 432x288 with 1 Axes>"
            ]
          },
          "metadata": {
            "needs_background": "light"
          },
          "output_type": "display_data"
        }
      ]
    },
    {
      "cell_type": "code",
      "metadata": {
        "id": "cardiovascular-colony",
        "outputId": "7f7eafb2-b468-4b5a-9c3b-aaa8d96c7a68"
      },
      "source": [
        "plt.plot([0,3],[-1,1],label='first line')\n",
        "plt.plot([-2,0],[-4,1],label='second line')\n",
        "plt.legend()"
      ],
      "id": "cardiovascular-colony",
      "execution_count": null,
      "outputs": [
        {
          "data": {
            "text/plain": [
              "<matplotlib.legend.Legend at 0x7f3046ec8978>"
            ]
          },
          "execution_count": 62,
          "metadata": {},
          "output_type": "execute_result"
        },
        {
          "data": {
            "image/png": "[encoded data removed]",
            "text/plain": [
              "<Figure size 432x288 with 1 Axes>"
            ]
          },
          "metadata": {
            "needs_background": "light"
          },
          "output_type": "display_data"
        }
      ]
    },
    {
      "cell_type": "code",
      "metadata": {
        "id": "personal-shade",
        "outputId": "5d4cc11e-0306-4458-dacd-f01d9ca31581"
      },
      "source": [
        "M=np.random.randint(0,10,size=(4,5))\n",
        "M"
      ],
      "id": "personal-shade",
      "execution_count": null,
      "outputs": [
        {
          "data": {
            "text/plain": [
              "array([[6, 6, 6, 4, 4],\n",
              "       [8, 3, 7, 0, 9],\n",
              "       [0, 3, 0, 3, 0],\n",
              "       [0, 1, 3, 8, 9]])"
            ]
          },
          "execution_count": 66,
          "metadata": {},
          "output_type": "execute_result"
        }
      ]
    },
    {
      "cell_type": "code",
      "metadata": {
        "id": "fitted-bullet",
        "outputId": "eac65499-f87b-4d64-c6c0-86e46209058a"
      },
      "source": [
        "plt.imshow(M)"
      ],
      "id": "fitted-bullet",
      "execution_count": null,
      "outputs": [
        {
          "data": {
            "text/plain": [
              "<matplotlib.image.AxesImage at 0x7f3046db4ef0>"
            ]
          },
          "execution_count": 68,
          "metadata": {},
          "output_type": "execute_result"
        },
        {
          "data": {
            "image/png": "[encoded data removed]",
            "text/plain": [
              "<Figure size 432x288 with 1 Axes>"
            ]
          },
          "metadata": {
            "needs_background": "light"
          },
          "output_type": "display_data"
        }
      ]
    },
    {
      "cell_type": "code",
      "metadata": {
        "id": "offensive-friday",
        "outputId": "1ba1b728-6327-41f3-aacb-393418997a81"
      },
      "source": [
        "vec=[3,4,5,2]\n",
        "s=2\n",
        "vec*s"
      ],
      "id": "offensive-friday",
      "execution_count": null,
      "outputs": [
        {
          "data": {
            "text/plain": [
              "[3, 4, 5, 2, 3, 4, 5, 2]"
            ]
          },
          "execution_count": 72,
          "metadata": {},
          "output_type": "execute_result"
        }
      ]
    },
    {
      "cell_type": "code",
      "metadata": {
        "id": "judicial-pledge",
        "outputId": "d68b64e9-9119-4d45-e4b3-7956ad7d9b67"
      },
      "source": [
        "vec=np.array([3,4,5,2])\n",
        "s=2\n",
        "vec*s"
      ],
      "id": "judicial-pledge",
      "execution_count": null,
      "outputs": [
        {
          "data": {
            "text/plain": [
              "array([ 6,  8, 10,  4])"
            ]
          },
          "execution_count": 74,
          "metadata": {},
          "output_type": "execute_result"
        }
      ]
    },
    {
      "cell_type": "code",
      "metadata": {
        "id": "vital-specific",
        "outputId": "f2faa1a3-1520-43de-aeec-9f1b67b921b4"
      },
      "source": [
        "vec2d=np.array([1,2])\n",
        "s1=2\n",
        "s2=-5\n",
        "s3=-1\n",
        "vec2d[0]"
      ],
      "id": "vital-specific",
      "execution_count": null,
      "outputs": [
        {
          "data": {
            "text/plain": [
              "1"
            ]
          },
          "execution_count": 76,
          "metadata": {},
          "output_type": "execute_result"
        }
      ]
    },
    {
      "cell_type": "code",
      "metadata": {
        "id": "expanded-shopping",
        "outputId": "17106804-07fb-40ec-b3c5-1299e4e0b0b7"
      },
      "source": [
        "plt.plot([0,vec2d[0]],[0,vec2d[1]],'bs--')"
      ],
      "id": "expanded-shopping",
      "execution_count": null,
      "outputs": [
        {
          "data": {
            "text/plain": [
              "[<matplotlib.lines.Line2D at 0x7f3046d06630>]"
            ]
          },
          "execution_count": 78,
          "metadata": {},
          "output_type": "execute_result"
        },
        {
          "data": {
            "image/png": "[encoded data removed]",
            "text/plain": [
              "<Figure size 432x288 with 1 Axes>"
            ]
          },
          "metadata": {
            "needs_background": "light"
          },
          "output_type": "display_data"
        }
      ]
    },
    {
      "cell_type": "code",
      "metadata": {
        "id": "legitimate-titanium",
        "outputId": "a03cbab9-cf68-4b06-9e52-cf90d29cdfda"
      },
      "source": [
        "plt.plot([0, vec2d[0]], [0, vec2d[1]], 'bs-', label='v')\n",
        "plt.plot([0, s1*vec2d[0]], [0, s1*vec2d[1]], 'ro-', label='v*s1') \n",
        "plt.plot([0, s2*vec2d[0]], [0, s2*vec2d[1]], 'kp-', label='v*s2') \n",
        "plt.plot([0, s3*vec2d[0]], [0, s3*vec2d[1]], 'g-',label='v*s3')\n",
        "\n",
        "plt.axis ('square')\n",
        "\n",
        "plt.xlim ([-4,4])\n",
        "\n",
        "plt.ylim([-4,4])\n",
        "\n",
        "plt.grid()\n",
        "\n",
        "plt.legend()\n",
        "\n",
        "plt.show"
      ],
      "id": "legitimate-titanium",
      "execution_count": null,
      "outputs": [
        {
          "data": {
            "text/plain": [
              "<function matplotlib.pyplot.show(close=None, block=None)>"
            ]
          },
          "execution_count": 80,
          "metadata": {},
          "output_type": "execute_result"
        },
        {
          "data": {
            "image/png": "[encoded data removed]",
            "text/plain": [
              "<Figure size 432x288 with 1 Axes>"
            ]
          },
          "metadata": {
            "needs_background": "light"
          },
          "output_type": "display_data"
        }
      ]
    },
    {
      "cell_type": "code",
      "metadata": {
        "id": "handled-federation",
        "outputId": "2c9aaebb-fb8c-44e9-a2d2-d36c103f7781"
      },
      "source": [
        "v1=np.array([4,5,6,2]) \n",
        "v2=np.array([-4,3,4,5])\n",
        "np.dot (v1, v2)"
      ],
      "id": "handled-federation",
      "execution_count": null,
      "outputs": [
        {
          "data": {
            "text/plain": [
              "33"
            ]
          },
          "execution_count": 82,
          "metadata": {},
          "output_type": "execute_result"
        }
      ]
    },
    {
      "cell_type": "code",
      "metadata": {
        "id": "answering-taste",
        "outputId": "282ed4c2-8b7f-4fb0-ab30-8c0e255f7e73"
      },
      "source": [
        "np.eye(3)"
      ],
      "id": "answering-taste",
      "execution_count": null,
      "outputs": [
        {
          "data": {
            "text/plain": [
              "array([[1., 0., 0.],\n",
              "       [0., 1., 0.],\n",
              "       [0., 0., 1.]])"
            ]
          },
          "execution_count": 84,
          "metadata": {},
          "output_type": "execute_result"
        }
      ]
    },
    {
      "cell_type": "code",
      "metadata": {
        "id": "julian-compression",
        "outputId": "0b135ce6-2d47-4ac0-c044-9bbd292f5ba2"
      },
      "source": [
        "np.zeros((3,4))"
      ],
      "id": "julian-compression",
      "execution_count": null,
      "outputs": [
        {
          "data": {
            "text/plain": [
              "array([[0., 0., 0., 0.],\n",
              "       [0., 0., 0., 0.],\n",
              "       [0., 0., 0., 0.]])"
            ]
          },
          "execution_count": 86,
          "metadata": {},
          "output_type": "execute_result"
        }
      ]
    },
    {
      "cell_type": "code",
      "metadata": {
        "id": "perceived-seeking",
        "outputId": "615cf7f5-2a77-4412-a0fd-165bf414f3ce"
      },
      "source": [
        "np.full((5,2),7)"
      ],
      "id": "perceived-seeking",
      "execution_count": null,
      "outputs": [
        {
          "data": {
            "text/plain": [
              "array([[7, 7],\n",
              "       [7, 7],\n",
              "       [7, 7],\n",
              "       [7, 7],\n",
              "       [7, 7]])"
            ]
          },
          "execution_count": 88,
          "metadata": {},
          "output_type": "execute_result"
        }
      ]
    },
    {
      "cell_type": "code",
      "metadata": {
        "id": "weekly-catch",
        "outputId": "10be765a-2ad8-484c-d146-6af75687d7ef"
      },
      "source": [
        "N=np.array([[1,2,3],\n",
        "            [4,5,6],\n",
        "            [7,8,9]])\n",
        "\n",
        "N"
      ],
      "id": "weekly-catch",
      "execution_count": null,
      "outputs": [
        {
          "data": {
            "text/plain": [
              "array([[1, 2, 3],\n",
              "       [4, 5, 6],\n",
              "       [7, 8, 9]])"
            ]
          },
          "execution_count": 92,
          "metadata": {},
          "output_type": "execute_result"
        }
      ]
    },
    {
      "cell_type": "code",
      "metadata": {
        "id": "painful-morris",
        "outputId": "8483fc31-10a0-43ad-91c3-c8377727f569"
      },
      "source": [
        "w=np.array([2,3,-1],ndmin=2)\n",
        "\n",
        "w\n",
        "\n",
        "''\n",
        "\n",
        "w.T"
      ],
      "id": "painful-morris",
      "execution_count": null,
      "outputs": [
        {
          "data": {
            "text/plain": [
              "array([[ 2],\n",
              "       [ 3],\n",
              "       [-1]])"
            ]
          },
          "execution_count": 94,
          "metadata": {},
          "output_type": "execute_result"
        }
      ]
    },
    {
      "cell_type": "code",
      "metadata": {
        "id": "pursuant-network",
        "outputId": "20d2d7ff-9550-4332-db93-48ad9106223c"
      },
      "source": [
        "A= np.random.randn(3, 3)\n",
        "\n",
        "A"
      ],
      "id": "pursuant-network",
      "execution_count": null,
      "outputs": [
        {
          "data": {
            "text/plain": [
              "array([[-0.06341765, -0.17726212,  0.79688586],\n",
              "       [-0.40964045,  1.20746504, -1.07592145],\n",
              "       [-0.44273244, -0.08476212,  0.03934369]])"
            ]
          },
          "execution_count": 98,
          "metadata": {},
          "output_type": "execute_result"
        }
      ]
    },
    {
      "cell_type": "code",
      "metadata": {
        "id": "developing-budget",
        "outputId": "c4fda8f3-48c2-4dbe-e999-4c15f4ab423a"
      },
      "source": [
        "A= np.round(np.random.randn(3,3))\n",
        "A"
      ],
      "id": "developing-budget",
      "execution_count": null,
      "outputs": [
        {
          "data": {
            "text/plain": [
              "array([[-1., -1.,  0.],\n",
              "       [ 2., -2., -1.],\n",
              "       [ 2.,  0., -1.]])"
            ]
          },
          "execution_count": 100,
          "metadata": {},
          "output_type": "execute_result"
        }
      ]
    },
    {
      "cell_type": "code",
      "metadata": {
        "id": "optimum-nurse",
        "outputId": "c6e0fce2-163a-429c-e628-73f13cead12d"
      },
      "source": [
        "M1= np.random.randn(4,5)\n",
        "M2= np.random.randn (4,5)\n",
        "np.matmul(M1, M2. T)\n",
        "M1@M2.T\n",
        "''\n",
        "''\n",
        "np.matmul(M1, M2. T)-(M1@M2.T) "
      ],
      "id": "optimum-nurse",
      "execution_count": null,
      "outputs": [
        {
          "data": {
            "text/plain": [
              "array([[0., 0., 0., 0.],\n",
              "       [0., 0., 0., 0.],\n",
              "       [0., 0., 0., 0.],\n",
              "       [0., 0., 0., 0.]])"
            ]
          },
          "execution_count": 102,
          "metadata": {},
          "output_type": "execute_result"
        }
      ]
    },
    {
      "cell_type": "code",
      "metadata": {
        "id": "fantastic-clear",
        "outputId": "e749d7c6-e729-45d1-f38e-78ec99c9b51e"
      },
      "source": [
        "S=np.random.randn(4,4) \n",
        "Sinv= np.linalg.inv(S)\n",
        "\n",
        "Sinvs=S@Sinv\n",
        "S\n",
        "''\n",
        "Sinv\n",
        "''\n",
        "Sinvs"
      ],
      "id": "fantastic-clear",
      "execution_count": null,
      "outputs": [
        {
          "data": {
            "text/plain": [
              "array([[ 1.00000000e+00, -3.72654111e-18,  1.97387521e-16,\n",
              "        -7.85619177e-17],\n",
              "       [ 4.27171606e-17,  1.00000000e+00, -5.65020216e-17,\n",
              "        -6.18196537e-17],\n",
              "       [-6.15419138e-17,  4.01841300e-17,  1.00000000e+00,\n",
              "         4.65574226e-17],\n",
              "       [-2.54175820e-18,  7.76981539e-18, -3.92893877e-17,\n",
              "         1.00000000e+00]])"
            ]
          },
          "execution_count": 106,
          "metadata": {},
          "output_type": "execute_result"
        }
      ]
    },
    {
      "cell_type": "code",
      "metadata": {
        "id": "electronic-dispute",
        "outputId": "2fd504c7-fcac-4fdf-8bad-d0ef88bd46e1"
      },
      "source": [
        "fig, ax=plt.subplots (1,3, figsize=(6,5))\n",
        "\n",
        "ax[0].imshow(S)\n",
        "\n",
        "ax[0].set_title('S')\n",
        "\n",
        "ax[1].imshow(Sinv)\n",
        "\n",
        "ax[1].set_title('S$^{-1}$')\n",
        "\n",
        "ax[2].imshow(Sinvs)\n",
        "\n",
        "ax[2].set_title('S$^{-1}$S')"
      ],
      "id": "electronic-dispute",
      "execution_count": null,
      "outputs": [
        {
          "data": {
            "text/plain": [
              "Text(0.5, 1.0, 'S$^{-1}$S')"
            ]
          },
          "execution_count": 111,
          "metadata": {},
          "output_type": "execute_result"
        },
        {
          "data": {
            "image/png": "[encoded data removed]",
            "text/plain": [
              "<Figure size 432x360 with 3 Axes>"
            ]
          },
          "metadata": {
            "needs_background": "light"
          },
          "output_type": "display_data"
        }
      ]
    }
  ]
}